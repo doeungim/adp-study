{
 "cells": [
  {
   "cell_type": "markdown",
   "id": "39d47a07",
   "metadata": {},
   "source": [
    "# 정리노트 - SVM"
   ]
  },
  {
   "cell_type": "markdown",
   "id": "sticky-intervention",
   "metadata": {},
   "source": [
    "#### Data Load"
   ]
  },
  {
   "cell_type": "code",
   "execution_count": null,
   "id": "certain-publicity",
   "metadata": {},
   "outputs": [],
   "source": [
    "#option1 - 유방암 데이터\n",
    "import pandas as pd\n",
    "from sklearn.model_selection import train_test_split\n",
    "\n",
    "df = pd.read_csv(\"data/breastCancer.csv\")\n",
    "df.drop(columns={\"Unnamed: 32\"}, axis=1, inplace=True)\n",
    "df[\"target\"] = 0\n",
    "df.loc[(df.diagnosis == \"M\"), \"target\"] = 1\n",
    "df.loc[(df.diagnosis == \"B\"), \"target\"] = 0\n",
    "df.drop(columns={\"id\", \"diagnosis\"}, axis=1, inplace=True)\n",
    "x_vars = df.columns.to_list()\n",
    "x_vars.remove(\"target\")\n",
    "#전처리는 생략..."
   ]
  },
  {
   "cell_type": "code",
   "execution_count": null,
   "id": "careful-seeking",
   "metadata": {},
   "outputs": [],
   "source": [
    "#option2 - 타이타닉 데이터셋\n",
    "import pandas as pd\n",
    "from sklearn.model_selection import train_test_split\n",
    "\n",
    "df = pd.read_csv(\"data/모의고사 2회/titanic.csv\")\n",
    "df.rename(columns={\"survived\" : \"target\"}, inplace=True)\n",
    "df[\"age\"].fillna(df[\"age\"].median(), inplace=True)\n",
    "df[\"fare\"].fillna(df[\"fare\"].median(), inplace=True)\n",
    "df[\"embarked\"].fillna(df[\"embarked\"].mode()[0], inplace=True)\n",
    "df[\"sex_1\"] = \"\"\n",
    "df[\"embarked_1\"] = \"\"\n",
    "df.loc[(df.sex == \"male\"), \"sex_1\"] = 1\n",
    "df.loc[(df.sex == \"female\"), \"sex_1\"] = 2\n",
    "df.loc[(df.embarked == \"S\"), \"embarked_1\"] = 1\n",
    "df.loc[(df.embarked == \"C\"), \"embarked_1\"] = 2\n",
    "df.loc[(df.embarked == \"Q\"), \"embarked_1\"] = 3\n",
    "\n",
    "x_vars = [\"pclass\", \"sex_1\", \"age\", \"sibsp\", \"parch\", \"fare\", \"embarked_1\"]"
   ]
  },
  {
   "cell_type": "code",
   "execution_count": null,
   "id": "opposite-egyptian",
   "metadata": {},
   "outputs": [],
   "source": [
    "from sklearn.preprocessing import StandardScaler  # 표준화 패키지 라이브러리\n",
    "df[x_vars] = StandardScaler().fit_transform(df[x_vars])\n",
    "X_train, X_test, y_train, y_test = train_test_split(df[x_vars], df[\"target\"], \n",
    "                                                    test_size=0.3, shuffle=True)"
   ]
  },
  {
   "cell_type": "markdown",
   "id": "secondary-daniel",
   "metadata": {},
   "source": [
    "### Linear SVC"
   ]
  },
  {
   "cell_type": "code",
   "execution_count": null,
   "id": "engaged-champion",
   "metadata": {},
   "outputs": [],
   "source": [
    "from sklearn.svm import LinearSVC\n",
    "\n",
    "C = 10 #margin error를 얼마나 허용할 것인가.. 값이 높을수록 허용치가 낮아짐 -> overfit\n",
    "model = LinearSVC(C=C, loss=\"hinge\", max_iter=1000000)\n",
    "model_fit = model.fit(X_train, y_train)\n",
    "\n",
    "#weight 값 보기\n",
    "coef = model_fit.coef_\n",
    "intercept = model_fit.intercept_[0]\n",
    "coef_r = [{\"X\" : \"intercept\", \"beta\" : intercept}]\n",
    "for idx, c in enumerate(coef[0]):\n",
    "    this_dict = {\n",
    "        \"X\" : x_vars[idx],\n",
    "        \"beta\" : c\n",
    "    }\n",
    "    coef_r.append(this_dict)\n",
    "coef_r = pd.DataFrame(coef_r)"
   ]
  },
  {
   "cell_type": "code",
   "execution_count": null,
   "id": "defensive-spencer",
   "metadata": {},
   "outputs": [],
   "source": [
    "from sklearn.metrics import accuracy_score\n",
    "from sklearn.metrics import recall_score\n",
    "from sklearn.metrics import precision_score\n",
    "from sklearn.metrics import confusion_matrix\n",
    "from sklearn.metrics import classification_report\n",
    "\n",
    "acc_score = accuracy_score(y_test, model.predict(X_test))\n",
    "recall_score = recall_score(y_test, model.predict(X_test))\n",
    "precision_score = precision_score(y_test, model.predict(X_test))\n",
    "confusion_matrix = confusion_matrix(y_test, model.predict(X_test))\n",
    "report = classification_report(y_test, model.predict(X_test))\n",
    "print(\"acc_score : {:.2f}, recall_score : {:.2f}, precision_score : {:.2f}\".format(acc_score, recall_score, precision_score))\n",
    "print(confusion_matrix)\n",
    "print(report)"
   ]
  },
  {
   "cell_type": "markdown",
   "id": "unable-chick",
   "metadata": {},
   "source": [
    "### Non-Linear SVC"
   ]
  },
  {
   "cell_type": "code",
   "execution_count": null,
   "id": "opponent-solid",
   "metadata": {},
   "outputs": [],
   "source": [
    "from sklearn.svm import SVC\n",
    "\n",
    "C = 100 #margin error를 얼마나 허용할 것인가.. 값이 높을수록 허용치가 낮아짐 -> overfit\n",
    "#커널 종류 : 'linear', 'poly', 'rbf', 'sigmoid', 'precomputed'\n",
    "model = SVC(kernel=\"rbf\", C=C, max_iter=1000000)\n",
    "model_fit = model.fit(X_train, y_train)"
   ]
  },
  {
   "cell_type": "code",
   "execution_count": null,
   "id": "dirty-wisconsin",
   "metadata": {},
   "outputs": [],
   "source": [
    "from sklearn.metrics import accuracy_score\n",
    "from sklearn.metrics import recall_score\n",
    "from sklearn.metrics import precision_score\n",
    "from sklearn.metrics import confusion_matrix\n",
    "from sklearn.metrics import classification_report\n",
    "\n",
    "acc_score = accuracy_score(y_test, model.predict(X_test))\n",
    "recall_score = recall_score(y_test, model.predict(X_test))\n",
    "precision_score = precision_score(y_test, model.predict(X_test))\n",
    "confusion_matrix = confusion_matrix(y_test, model.predict(X_test))\n",
    "report = classification_report(y_test, model.predict(X_test))\n",
    "print(\"acc_score : {:.2f}, recall_score : {:.2f}, precision_score : {:.2f}\".format(acc_score, recall_score, precision_score))\n",
    "print(confusion_matrix)\n",
    "print(report)"
   ]
  }
 ],
 "metadata": {
  "kernelspec": {
   "display_name": "Python 3",
   "language": "python",
   "name": "python3"
  },
  "language_info": {
   "codemirror_mode": {
    "name": "ipython",
    "version": 3
   },
   "file_extension": ".py",
   "mimetype": "text/x-python",
   "name": "python",
   "nbconvert_exporter": "python",
   "pygments_lexer": "ipython3",
   "version": "3.7.9"
  }
 },
 "nbformat": 4,
 "nbformat_minor": 5
}
