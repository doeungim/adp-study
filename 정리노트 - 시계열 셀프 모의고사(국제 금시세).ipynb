{
 "cells": [
  {
   "cell_type": "markdown",
   "id": "64f44abe",
   "metadata": {},
   "source": [
    "# 정리노트 - 시계열 셀프 모의고사(국제 금시세)"
   ]
  },
  {
   "cell_type": "code",
   "execution_count": null,
   "id": "palestinian-royal",
   "metadata": {
    "scrolled": false
   },
   "outputs": [],
   "source": [
    "import json\n",
    "import pandas as pd\n",
    "\n",
    "f = open(\"data/goldPrice.json\", \"r\", encoding=\"UTF-8\")\n",
    "str_data = f.read()\n",
    "f.close()\n",
    "json_data = json.loads(str_data)\n",
    "\n",
    "data_list = []\n",
    "for item in json_data[\"vector\"][\"data\"]:\n",
    "    if item[\"LIST\"][\"CUR_NM\"][\"_value\"] == \"1USD\":\n",
    "        this_data = {}\n",
    "    for k, v in item[\"LIST\"].items():\n",
    "        if k == \"NTC_DT\":\n",
    "            this_data[k] = v[\"_value\"]\n",
    "        elif k == \"TRD_BAS_EXRT\":\n",
    "            if \"TRD_BAS_EXRT\" in this_data:\n",
    "                this_data[\"WON\"] = float(v[\"_value\"])\n",
    "            else:\n",
    "                this_data[k] = float(v[\"_value\"])\n",
    "    if item[\"LIST\"][\"CUR_NM\"][\"_value\"] != \"1USD\":\n",
    "        data_list.append(this_data)\n",
    "    \n",
    "df = pd.DataFrame(data_list)\n",
    "df[\"GOLD_PRICE\"] = df[\"WON\"]/df[\"TRD_BAS_EXRT\"] * (31.1034768/0.9999)\n",
    "df.rename(columns={\"NTC_DT\" : \"DATE\"}, inplace=True)\n",
    "df.drop(columns=[\"TRD_BAS_EXRT\", \"WON\"], axis=1, inplace=True)\n",
    "df"
   ]
  },
  {
   "cell_type": "code",
   "execution_count": null,
   "id": "valued-mechanism",
   "metadata": {},
   "outputs": [],
   "source": [
    "df[\"DATE\"] = pd.to_datetime(df[\"DATE\"])\n",
    "df[\"YM_PRD\"] = df[\"DATE\"].dt.to_period(freq=\"M\")\n",
    "df[\"YM_DT\"] = \"\"\n",
    "for i in range(len(df[\"YM_PRD\"])):\n",
    "    df.iloc[i, 3] = str(df.iloc[i, 2])\n",
    "df[\"YM_DT\"] = pd.to_datetime(df[\"YM_DT\"])\n",
    "df"
   ]
  },
  {
   "cell_type": "code",
   "execution_count": null,
   "id": "employed-knowing",
   "metadata": {},
   "outputs": [],
   "source": [
    "df_ym = df.groupby(by=\"YM_DT\")\n",
    "df_ym = df_ym.mean()\n",
    "# df_ym.reset_index(inplace=True)\n",
    "display(df_ym)\n",
    "# df_ym[\"new_ym\"] = pd.to_datetime(df_ym[\"YM\"])\n",
    "# df_ym[\"YM\"] = df_ym[\"YM\"].asfreq('D', how='start').to_timestamp()\n",
    "# df_ym[\"YM\"]\n",
    "# df_ym[\"YM\"] = df_ym[]"
   ]
  },
  {
   "cell_type": "code",
   "execution_count": null,
   "id": "foreign-helena",
   "metadata": {
    "scrolled": false
   },
   "outputs": [],
   "source": [
    "import matplotlib.pyplot as plt\n",
    "\n",
    "# fig = plt.figure(dpi=150)\n",
    "fig = plt.figure()\n",
    "ax = fig.subplots()\n",
    "df_ym.plot(ax = ax)\n",
    "# plt.plot(df_ym[\"YM\"], df_ym[\"GOLD_PRICE\"])"
   ]
  },
  {
   "cell_type": "code",
   "execution_count": null,
   "id": "intimate-hungarian",
   "metadata": {
    "scrolled": false
   },
   "outputs": [],
   "source": [
    "import statsmodels.api as sm\n",
    "#Decomposition of Time Series\n",
    "decomposition = sm.tsa.seasonal_decompose(df_ym[\"GOLD_PRICE\"], model=\"additive\", period=1)\n",
    "fig = decomposition.plot()\n",
    "# fig.dpi = 150\n",
    "fig.set_size_inches(10, 15)\n",
    "plt.show()"
   ]
  },
  {
   "cell_type": "code",
   "execution_count": null,
   "id": "collect-leather",
   "metadata": {},
   "outputs": [],
   "source": [
    "from sklearn.model_selection import train_test_split\n",
    "train_data, test_data = train_test_split(df_ym, test_size=0.2, shuffle=False)\n",
    "\n",
    "fig, ax = plt.subplots(1, 2, figsize=(10, 5))\n",
    "fig.suptitle(\"RawData\")\n",
    "sm.graphics.tsa.plot_acf(train_data.values.squeeze(), lags=30, ax=ax[0])\n",
    "sm.graphics.tsa.plot_pacf(train_data.values.squeeze(), lags=30, ax=ax[1])\n",
    "\n",
    "#비정상성 시계열의 전형적인 특징을 보여준다. 완만히 하강하는 모양새. 정상성이라면 뚝 끊기게 나올 것"
   ]
  },
  {
   "cell_type": "code",
   "execution_count": null,
   "id": "unknown-lesson",
   "metadata": {
    "scrolled": false
   },
   "outputs": [],
   "source": [
    "#차분한다.\n",
    "diff_train_data = train_data.copy()\n",
    "diff_train_data = diff_train_data[\"GOLD_PRICE\"].diff()\n",
    "diff_train_data.dropna(inplace=True)\n",
    "print(diff_train_data)\n",
    "plt.plot(diff_train_data, \"orange\", label=\"diff_train_data(Stationary)\")\n",
    "plt.grid()\n",
    "plt.legend()"
   ]
  },
  {
   "cell_type": "code",
   "execution_count": null,
   "id": "continent-armenia",
   "metadata": {},
   "outputs": [],
   "source": [
    "fig, ax = plt.subplots(1, 2, figsize=(10, 5))\n",
    "fig.suptitle(\"RawData\")\n",
    "sm.graphics.tsa.plot_acf(diff_train_data.values.squeeze(), lags=30, ax=ax[0])\n",
    "sm.graphics.tsa.plot_pacf(diff_train_data.values.squeeze(), lags=30, ax=ax[1])\n",
    "\n",
    "#정상성을 보이는 것으로 보임. 3~4개 튀는 것들이 있으나 무시해도 좋음"
   ]
  },
  {
   "cell_type": "code",
   "execution_count": null,
   "id": "certified-gregory",
   "metadata": {
    "scrolled": true
   },
   "outputs": [],
   "source": [
    "import itertools\n",
    "import warnings\n",
    "warnings.filterwarnings(\"ignore\")\n",
    "\n",
    "p = range(0, 3)\n",
    "d = range(1, 2)\n",
    "q = range(0, 3)\n",
    "pdq = list(itertools.product(p, d, q)) #세가지 배열의 값을 각각 조합하여 새로운 배열로 만들어 줌\n",
    "seasonal_pdq = [(x[0], x[1], x[2], 4) for x in pdq]\n",
    "\n",
    "aic = []\n",
    "for i in pdq:\n",
    "    for j in seasonal_pdq:\n",
    "        try: #pdq 파라미터 값 때문에 오류가 날 수 있음. 코드가 중단되므로 try문으로...\n",
    "            model = sm.tsa.SARIMAX(df_ym.values, order=(i), seasonal_order=(j))\n",
    "            model_fit = model.fit()\n",
    "            print(\"SARIMA Order : {}{} -> AIC : {}\".format(i, j, model_fit.aic))\n",
    "            aic_dict = { \"pdq\": i, \"s-pdq\" : j, \"aic\" : model_fit.aic }\n",
    "            aic.append(aic_dict)\n",
    "        except:\n",
    "            continue\n",
    "result_by_aic = pd.DataFrame(aic)\n",
    "result_by_aic.sort_values(by=\"aic\", ascending=True, inplace=True)\n",
    "result_by_aic.reset_index(inplace=True)\n",
    "result_by_aic"
   ]
  },
  {
   "cell_type": "code",
   "execution_count": null,
   "id": "composite-stocks",
   "metadata": {
    "scrolled": false
   },
   "outputs": [],
   "source": [
    "#aic가 가장 낮은 모델로 select 하여 summary를 본다\n",
    "model_opt = sm.tsa.SARIMAX(df_ym.values, order=result_by_aic.iloc[0,1], seasonal_order=result_by_aic.iloc[0,2])\n",
    "model_opt_fit = model_opt.fit()\n",
    "model_opt_fit.summary()"
   ]
  },
  {
   "cell_type": "code",
   "execution_count": null,
   "id": "previous-township",
   "metadata": {},
   "outputs": [],
   "source": [
    "df_ym2 = df_ym.copy()\n",
    "\n",
    "dt_index = pd.date_range(start=\"2021-10-1\", end=\"2023-9-1\", freq=\"MS\")\n",
    "df_dt = pd.DataFrame(dt_index)\n",
    "df_dt[\"GOLD_PRICE\"] = 0.0\n",
    "df_dt[\"YM_DT\"] = df_dt[0]\n",
    "df_dt.drop(columns=[0], axis=1, inplace=True)\n",
    "df_dt.set_index(\"YM_DT\", inplace=True)\n",
    "df_ym2 = pd.concat([df_ym2, df_dt])\n",
    "df_ym2[-24:].index"
   ]
  },
  {
   "cell_type": "code",
   "execution_count": null,
   "id": "higher-growing",
   "metadata": {},
   "outputs": [],
   "source": [
    "import datetime\n",
    "import numpy as np\n",
    "from sklearn.metrics import r2_score\n",
    "\n",
    "prediction = model_opt_fit.get_forecast(24)\n",
    "predicted_value = prediction.predicted_mean\n",
    "predicted_ub = prediction.conf_int()[:,0]\n",
    "predicted_lb = prediction.conf_int()[:,1]\n",
    "predict_index = list(df_ym2[-24:].index)\n",
    "# r2 = r2_score(test_data, predicted_value)\n",
    "\n",
    "forecast_start_date = datetime.datetime(2021, 9, 1)\n",
    "forecast_start_date = np.datetime64(forecast_start_date)\n",
    "plt.figure(dpi=150)\n",
    "plt.plot(df_ym2.index, df_ym2[\"GOLD_PRICE\"], label=\"GOLD_PRICE\")\n",
    "# plt.vlines(forecast_start_date, 0, 2000, linestyle=\"--\", color=\"r\", label=\"Forecast Start\")\n",
    "plt.plot(predict_index, predicted_value, label = \"Prediction\")\n",
    "plt.fill_between(predict_index, predicted_lb, predicted_ub, color=\"k\", alpha=0.1, label=\"0.95 Prediction Interval\")\n",
    "plt.legend(loc=\"upper left\")\n",
    "plt.suptitle(\"SARIMA {} {}, Prediction Results\".format(result_by_aic.iloc[0,1], result_by_aic.iloc[0,2]))"
   ]
  }
 ],
 "metadata": {
  "kernelspec": {
   "display_name": "Python 3",
   "language": "python",
   "name": "python3"
  },
  "language_info": {
   "codemirror_mode": {
    "name": "ipython",
    "version": 3
   },
   "file_extension": ".py",
   "mimetype": "text/x-python",
   "name": "python",
   "nbconvert_exporter": "python",
   "pygments_lexer": "ipython3",
   "version": "3.7.9"
  }
 },
 "nbformat": 4,
 "nbformat_minor": 5
}
