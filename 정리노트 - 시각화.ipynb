{
 "cells": [
  {
   "cell_type": "markdown",
   "id": "f41a13d9",
   "metadata": {},
   "source": [
    "# 정리노트 - 시각화"
   ]
  },
  {
   "cell_type": "code",
   "execution_count": null,
   "id": "limited-recognition",
   "metadata": {},
   "outputs": [],
   "source": [
    "#선 그래프 그리기\n",
    "plt.plot()\n",
    "\n",
    "#마커로 강조하고 싶다면\n",
    "plt.plot(marker=\"o\")\n",
    "\n",
    "#영역그래프 그리기\n",
    "plt.fill_between(eigenvalue_df[\"comp\"], [0 for x in range(n_components)], eigenvalue_df[\"cumsum\"],\n",
    "                 color=\"k\", alpha=0.05, label=\"cumsum\")\n",
    "\n",
    "#범례 보여주기 - plot의 label 파라미터에 값이 있어야 함\n",
    "plt.legend()\n",
    "\n",
    "#텍스트 그리기(score를 보여줄 때 필요)\n",
    "plt.text(x, y, s) #배열은 입력불가. 여러개 입력하려면 for문으로 할 것\n",
    "\n",
    "#세로선 긋기\n",
    "plt.vlines()\n",
    "\n",
    "#그리드 그리기\n",
    "plt.grid(b=True)\n",
    "\n",
    "#좌표 구간 설정\n",
    "plt.xlim(-4,4), plt.ylim(-4,4)\n",
    "\n",
    "#화살표 그리기\n",
    "plt.arrow()\n",
    "\n",
    "#3차원 그래프 그리기\n",
    "fig = plt.figure(figsize=(10,10))\n",
    "ax = fig.add_subplot(111, projection=\"3d\")\n",
    "ax.set_xlabel('Principal Component 1', fontsize = 15)\n",
    "ax.set_ylabel('Principal Component 2', fontsize = 15)\n",
    "ax.set_zlabel('Principal Component 3', fontsize = 15)\n",
    "ax.set_title('3 Component PCA', fontsize = 20)\n",
    "ax.view_init(40, 125)\n",
    "ax.scatter(principalDf[\"PC1\"], principalDf[\"PC2\"], principalDf[\"PC3\"], c=principalDf[\"target_num\"])\n",
    "plt.show()"
   ]
  }
 ],
 "metadata": {
  "kernelspec": {
   "display_name": "Python 3",
   "language": "python",
   "name": "python3"
  },
  "language_info": {
   "codemirror_mode": {
    "name": "ipython",
    "version": 3
   },
   "file_extension": ".py",
   "mimetype": "text/x-python",
   "name": "python",
   "nbconvert_exporter": "python",
   "pygments_lexer": "ipython3",
   "version": "3.7.9"
  }
 },
 "nbformat": 4,
 "nbformat_minor": 5
}
