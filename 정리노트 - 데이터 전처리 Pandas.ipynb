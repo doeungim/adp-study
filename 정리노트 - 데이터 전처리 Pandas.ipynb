{
 "cells": [
  {
   "cell_type": "code",
   "execution_count": null,
   "id": "97d0b5ef",
   "metadata": {},
   "outputs": [],
   "source": [
    "#NaN값이 있는 행만 출력하기\n",
    "df[df[\"A\"].isnull()]\n",
    "\n",
    "#NaN값 일괄 바꾸기 inplace 옵션 사용가능\n",
    "df.fillna()\n",
    "\n",
    "#최빈값 구하기\n",
    "df.mode()\n",
    "\n",
    "#조건에 맞춰 특정 컬럼에 있는 값을 변경하고자 할 경우\n",
    "df.loc[(df.col == 1),\"col\"] = 10 \n",
    "\n",
    "#loc에서 다중 조건으로 필터링하여 값 변경하기\n",
    "df.loc[(df.col >= 1)&(df.col < 10),\"col\"] = 10"
   ]
  }
 ],
 "metadata": {
  "kernelspec": {
   "display_name": "Python 3",
   "language": "python",
   "name": "python3"
  },
  "language_info": {
   "codemirror_mode": {
    "name": "ipython",
    "version": 3
   },
   "file_extension": ".py",
   "mimetype": "text/x-python",
   "name": "python",
   "nbconvert_exporter": "python",
   "pygments_lexer": "ipython3",
   "version": "3.7.9"
  }
 },
 "nbformat": 4,
 "nbformat_minor": 5
}
