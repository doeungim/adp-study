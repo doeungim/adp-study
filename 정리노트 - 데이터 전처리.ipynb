{
 "cells": [
  {
   "cell_type": "markdown",
   "id": "529de7f2",
   "metadata": {},
   "source": [
    "# 정리노트 - 데이터 전처리"
   ]
  },
  {
   "cell_type": "markdown",
   "id": "eight-neighbor",
   "metadata": {},
   "source": [
    "### pandas 데이터 전처리"
   ]
  },
  {
   "cell_type": "markdown",
   "id": "structured-editing",
   "metadata": {},
   "source": [
    "##### 전처리 기본"
   ]
  },
  {
   "cell_type": "code",
   "execution_count": null,
   "id": "97d0b5ef",
   "metadata": {},
   "outputs": [],
   "source": [
    "#NaN값이 있는 행만 출력하기\n",
    "df[df[\"A\"].isnull()]\n",
    "\n",
    "#NaN값 일괄 바꾸기 inplace 옵션 사용가능\n",
    "df.fillna()\n",
    "\n",
    "#최빈값 구하기\n",
    "df.mode()\n",
    "\n",
    "#조건에 맞춰 특정 컬럼에 있는 값을 변경하고자 할 경우\n",
    "df.loc[(df.col == 1),\"col\"] = 10 \n",
    "\n",
    "#loc에서 다중 조건으로 필터링하여 값 변경하기\n",
    "df.loc[(df.col >= 1)&(df.col < 10),\"col\"] = 10\n",
    "\n",
    "#범주형 변수를 더미변수로 만들기\n",
    "pd.get_dummies(df, columns = [\"col1\", \"col2\"])\n",
    "\n",
    "#유니크한 값만 출력\n",
    "df.unique()"
   ]
  },
  {
   "cell_type": "markdown",
   "id": "studied-grammar",
   "metadata": {},
   "source": [
    "##### pandas로 누적합 만들기"
   ]
  },
  {
   "cell_type": "code",
   "execution_count": null,
   "id": "funky-peace",
   "metadata": {},
   "outputs": [],
   "source": [
    "eigenvalue_df[\"cumsum\"] = eigenvalue_df[\"eigenvalue\"].cumsum()"
   ]
  },
  {
   "cell_type": "markdown",
   "id": "jewish-delay",
   "metadata": {},
   "source": [
    "##### 날짜 관련 함수"
   ]
  },
  {
   "cell_type": "code",
   "execution_count": null,
   "id": "placed-mount",
   "metadata": {},
   "outputs": [],
   "source": [
    "#년월일로 된 datetimeIndex 자료형을 월 단위로 구분하고 싶을 때\n",
    "df[\"YM\"] = pd.to_datetime(df[\"DATE\"]).dt.to_period(freq=\"M\") #하지만 자료형이 period로 변환되므로 주의\n",
    "\n",
    "#특정 날짜 사이의 날짜 구하기 #freq를 M으로 하면 말일로 구해줌\n",
    "dt_index = pd.date_range(start=\"2021-10-1\", end=\"2022-10-1\", freq=\"MS\")"
   ]
  },
  {
   "cell_type": "markdown",
   "id": "noble-douglas",
   "metadata": {},
   "source": [
    "### 데이터 스케일링(표준화)"
   ]
  },
  {
   "cell_type": "code",
   "execution_count": null,
   "id": "helpful-pressure",
   "metadata": {},
   "outputs": [],
   "source": [
    "from sklearn.preprocessing import StandardScaler  # 표준화 패키지 라이브러리 \n",
    "x = StandardScaler().fit_transform(x)"
   ]
  },
  {
   "cell_type": "markdown",
   "id": "cooperative-scene",
   "metadata": {},
   "source": [
    "### 정규표현식\n",
    "![title](https://raw.githubusercontent.com/hrdkdh/adp-study/main/images/re_table.png)\n",
    "![title](https://raw.githubusercontent.com/hrdkdh/adp-study/main/images/re_table2.png)"
   ]
  },
  {
   "cell_type": "code",
   "execution_count": 3,
   "id": "plain-environment",
   "metadata": {},
   "outputs": [],
   "source": [
    "import re\n",
    "\n",
    "source = 'Lux, the Lady of Luminosity'\n",
    "m = re.match('[a-z]+', source)"
   ]
  }
 ],
 "metadata": {
  "kernelspec": {
   "display_name": "Python 3",
   "language": "python",
   "name": "python3"
  },
  "language_info": {
   "codemirror_mode": {
    "name": "ipython",
    "version": 3
   },
   "file_extension": ".py",
   "mimetype": "text/x-python",
   "name": "python",
   "nbconvert_exporter": "python",
   "pygments_lexer": "ipython3",
   "version": "3.8.9"
  }
 },
 "nbformat": 4,
 "nbformat_minor": 5
}
