{
 "cells": [
  {
   "cell_type": "markdown",
   "id": "10bce372",
   "metadata": {},
   "source": [
    "# 정리노트 - 통계분석(t-test 등)"
   ]
  },
  {
   "cell_type": "markdown",
   "id": "rotary-siemens",
   "metadata": {},
   "source": [
    "### 독립표본 t-test\n",
    "두 독립표본의 평균을 통계적으로 비교하는 기법<br>\n",
    "![title](https://raw.githubusercontent.com/hrdkdh/adp-study/main/images/t_test.png)<br>\n",
    "독립표본이란? 두 표본집단을 구성(표집/수집)할 때 독립이면 독립표본<br>\n",
    "대응표본: 부부 100쌍을 뽑아 남편 100명과 아내 100명으로 두 집단을 비교하는 경우(같은 표본에서 두 집단을 추려 비교)<br>\n",
    "독립표본: 무작위로 남자 100명과 여자 100명을 뽑아 두 집단을 비교하는 경우(서로 다른 표본이 집단이 되어 비교)<br><br>\n",
    "귀무가설 : 두 집단의 평균은 차이가 없다.<br>\n",
    "대립가설 : 두 집단의 평균은 차이가 있다.<br><br>\n",
    "\n",
    "한가지 더 고려해야할 내용은 양측, 단측검정이다. 알려진 두 집단의 평균이 같은지 다른지 여부를 알고 싶으면 '양측검정'을 선택하면 되고, 어느 한쪽이 더 큰지 여부 또는 어느 한쪽이 더 작은지 여부를 알고 싶으면 '단측검정'을 선택한다.\n"
   ]
  },
  {
   "cell_type": "markdown",
   "id": "motivated-exclusive",
   "metadata": {},
   "source": [
    "##### QQ플롯으로 정규성 검토하기"
   ]
  },
  {
   "cell_type": "code",
   "execution_count": null,
   "id": "narrative-creation",
   "metadata": {},
   "outputs": [],
   "source": [
    "from scipy import stats\n",
    "\n",
    "stats.probplot(df[x], plot=plt)\n",
    "plt.title(\"Q-Q plot\")\n",
    "plt.show()"
   ]
  },
  {
   "cell_type": "markdown",
   "id": "statewide-region",
   "metadata": {},
   "source": [
    "##### Shapiro-Wilk 테스트로 정규성 검토하기 (귀무가설 : 정규성이 있다)"
   ]
  },
  {
   "cell_type": "code",
   "execution_count": null,
   "id": "sexual-shopper",
   "metadata": {},
   "outputs": [],
   "source": [
    "from scipy import stats\n",
    "stats.shapiro(df[x])"
   ]
  },
  {
   "cell_type": "markdown",
   "id": "tested-depth",
   "metadata": {},
   "source": [
    "##### F-test로 등분산성 검정하기 (귀무가설 : 두 모집단의 분산은 서로 동일하다 => 등분산의 가정을 만족한다)"
   ]
  },
  {
   "cell_type": "code",
   "execution_count": null,
   "id": "illegal-armstrong",
   "metadata": {},
   "outputs": [],
   "source": [
    "from scipy import stats\n",
    "stats.f_oneway(urban_yes_group[\"Sales\"], urban_no_group[\"Sales\"])"
   ]
  },
  {
   "cell_type": "code",
   "execution_count": null,
   "id": "balanced-cabinet",
   "metadata": {},
   "outputs": [],
   "source": [
    "from scipy import stats\n",
    "stats.ttest_ind()"
   ]
  }
 ],
 "metadata": {
  "kernelspec": {
   "display_name": "Python 3",
   "language": "python",
   "name": "python3"
  },
  "language_info": {
   "codemirror_mode": {
    "name": "ipython",
    "version": 3
   },
   "file_extension": ".py",
   "mimetype": "text/x-python",
   "name": "python",
   "nbconvert_exporter": "python",
   "pygments_lexer": "ipython3",
   "version": "3.7.9"
  }
 },
 "nbformat": 4,
 "nbformat_minor": 5
}
