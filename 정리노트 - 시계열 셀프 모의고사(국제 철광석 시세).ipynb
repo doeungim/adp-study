{
 "cells": [
  {
   "cell_type": "markdown",
   "id": "4da0a2c8",
   "metadata": {},
   "source": [
    "# 정리노트 - 시계열 셀프 모의고사(국제 철광석 시세)"
   ]
  },
  {
   "cell_type": "code",
   "execution_count": null,
   "id": "formal-pittsburgh",
   "metadata": {
    "scrolled": false
   },
   "outputs": [],
   "source": [
    "import pandas as pd\n",
    "import matplotlib.pyplot as plt\n",
    "\n",
    "df = pd.read_json(\"data/ironOrePriceJSON.txt\")\n",
    "df[\"year\"] = df[\"date\"].dt.year.astype(\"str\")\n",
    "df[\"month\"] = df[\"date\"].dt.month.astype(\"str\")\n",
    "\n",
    "for i in range(len(df[\"month\"])):\n",
    "    if len(str(df.iloc[i, 3])) == 1:\n",
    "        df.iloc[i, 3] = \"0\" + str(df.iloc[i, 3])\n",
    "\n",
    "df[\"ym\"] = df[\"year\"].map(str) + \"-\" + df[\"month\"].map(str)\n",
    "display(df)"
   ]
  },
  {
   "cell_type": "code",
   "execution_count": null,
   "id": "abroad-uzbekistan",
   "metadata": {
    "scrolled": false
   },
   "outputs": [],
   "source": [
    "df_gr = df.groupby(by=\"ym\")\n",
    "mean_by_ym = df_gr.mean()\n",
    "mean_by_ym.index = pd.to_datetime(mean_by_ym.index)\n",
    "display(mean_by_ym)\n",
    "\n",
    "plt.figure(dpi=150)\n",
    "plt.plot(mean_by_ym.index, mean_by_ym[\"price\"])\n",
    "plt.show()"
   ]
  },
  {
   "cell_type": "code",
   "execution_count": null,
   "id": "progressive-bandwidth",
   "metadata": {},
   "outputs": [],
   "source": [
    "import statsmodels.api as sm\n",
    "\n",
    "fig, ax = plt.subplots(1, 2, figsize=(10, 5))\n",
    "fig.suptitle(\"RawData\")\n",
    "sm.graphics.tsa.plot_acf(mean_by_ym.values.squeeze(), lags=30, ax=ax[0])\n",
    "sm.graphics.tsa.plot_pacf(mean_by_ym.values.squeeze(), lags=30, ax=ax[1])"
   ]
  },
  {
   "cell_type": "code",
   "execution_count": null,
   "id": "acute-cincinnati",
   "metadata": {
    "scrolled": true
   },
   "outputs": [],
   "source": [
    "#차분한다.\n",
    "diff_data = mean_by_ym.copy()\n",
    "diff_data = diff_data[\"price\"].diff()\n",
    "diff_data.dropna(inplace=True)\n",
    "print(diff_data)\n",
    "plt.plot(diff_data, \"orange\", label=\"diff_data(Stationary)\")\n",
    "plt.grid()\n",
    "plt.legend()\n",
    "\n",
    "fig, ax = plt.subplots(1, 2, figsize=(10, 5))\n",
    "fig.suptitle(\"RawData\")\n",
    "sm.graphics.tsa.plot_acf(diff_data.values.squeeze(), lags=30, ax=ax[0])\n",
    "sm.graphics.tsa.plot_pacf(diff_data.values.squeeze(), lags=30, ax=ax[1])\n",
    "\n",
    "#정상성을 보이는 것으로 보임. 3~4개 튀는 것들이 있으나 무시해도 좋음"
   ]
  },
  {
   "cell_type": "code",
   "execution_count": null,
   "id": "union-proxy",
   "metadata": {},
   "outputs": [],
   "source": [
    "from sklearn.model_selection import train_test_split\n",
    "import itertools\n",
    "import warnings\n",
    "warnings.filterwarnings(\"ignore\")\n",
    "\n",
    "train_data, test_data = train_test_split(mean_by_ym, test_size=0.05, \n",
    "                                         shuffle=False)\n",
    "\n",
    "#원래는 위 표에 따라 p,d,q를 결정해야 하지만 iterative 하게 할거임\n",
    "p = range(0, 3)\n",
    "d = range(1, 2)\n",
    "q = range(0, 3)\n",
    "#세가지 배열의 값을 각각 조합하여 새로운 배열로 만들어 줌\n",
    "pdq = list(itertools.product(p, d, q)) \n",
    "aic = []\n",
    "for i in pdq:\n",
    "    model = sm.tsa.ARIMA(train_data.values, order=(i))\n",
    "    model_fit = model.fit()\n",
    "    print(\"ARIMA Order : {} -> AIC : {}\".format(i, model_fit.aic))\n",
    "    aic_dict = { \"order\": i, \"aic\" : model_fit.aic }\n",
    "    aic.append(aic_dict)\n",
    "result_by_aic = pd.DataFrame(aic)\n",
    "result_by_aic.sort_values(by=\"aic\", ascending=True, inplace=True)\n",
    "result_by_aic.reset_index(inplace=True)\n",
    "result_by_aic"
   ]
  },
  {
   "cell_type": "code",
   "execution_count": null,
   "id": "roman-roller",
   "metadata": {},
   "outputs": [],
   "source": [
    "#aic가 가장 낮은 모델로 select 하여 summary를 본다\n",
    "model_opt = sm.tsa.ARIMA(train_data.values, order=result_by_aic.iloc[0,1])\n",
    "model_opt_fit = model_opt.fit()\n",
    "model_opt_fit.summary()"
   ]
  },
  {
   "cell_type": "code",
   "execution_count": null,
   "id": "illegal-script",
   "metadata": {
    "scrolled": false
   },
   "outputs": [],
   "source": [
    "import datetime\n",
    "import numpy as np\n",
    "from sklearn.metrics import r2_score\n",
    "\n",
    "prediction = model_opt_fit.forecast(len(test_data))\n",
    "predicted_value = prediction[0]\n",
    "predicted_ub = prediction[2][:,0]\n",
    "predicted_lb = prediction[2][:,1]\n",
    "predict_index = list(test_data.index)\n",
    "r2 = r2_score(test_data, predicted_value)\n",
    "\n",
    "# forecast_start_date = datetime.datetime(1958, 8, 1)\n",
    "# forecast_start_date = np.datetime64(forecast_start_date)\n",
    "plt.figure(dpi=150)\n",
    "plt.plot(mean_by_ym.index, mean_by_ym[\"price\"], label=\"price\")\n",
    "# plt.vlines(forecast_start_date, 0, 1000, linestyle=\"--\", \n",
    "#                             color=\"r\", label=\"Forecast Start\")\n",
    "plt.plot(predict_index, predicted_value, label = \"Prediction\")\n",
    "plt.fill_between(predict_index, predicted_lb, predicted_ub, \n",
    "                 color=\"k\", alpha=0.1, label=\"0.95 Prediction Interval\")\n",
    "plt.legend(loc=\"upper left\")\n",
    "plt.suptitle(\"ARIMA {} Prediction Results (r2_score : {:4.2f})\".format(\n",
    "    result_by_aic.iloc[0,1], r2))"
   ]
  },
  {
   "cell_type": "code",
   "execution_count": null,
   "id": "numerous-desktop",
   "metadata": {
    "scrolled": true
   },
   "outputs": [],
   "source": [
    "#SARIMA - auto_arima로 한방에 모델 셀렉션이 가능\n",
    "from pmdarima import auto_arima\n",
    "aa_model = auto_arima(train_data,\n",
    "                      start_p=0,\n",
    "                      d=1,\n",
    "                      start_q=0,\n",
    "                      max_p=3,\n",
    "                      max_d=3,\n",
    "                      max_q=3,\n",
    "                      start_P=0,\n",
    "                      D=1,\n",
    "                      start_Q=0,\n",
    "                      max_P=3,\n",
    "                      max_D=3,\n",
    "                      max_Q=3,\n",
    "                      m=4,\n",
    "                      seasonal=True,\n",
    "                      trace=True,\n",
    "                      error_action=\"ignore\",\n",
    "                      suppress_warnings=True,\n",
    "                      stepwise=False)\n",
    "aa_model.summary()"
   ]
  },
  {
   "cell_type": "code",
   "execution_count": null,
   "id": "approximate-hacker",
   "metadata": {},
   "outputs": [],
   "source": [
    "#aic가 가장 낮은 모델로 select 하여 summary를 본다\n",
    "model_opt = sm.tsa.SARIMAX(train_data.values, \n",
    "                       order=aa_model.get_params()[\"order\"], \n",
    "                       seasonal_order=aa_model.get_params()[\"seasonal_order\"])\n",
    "model_opt_fit = model_opt.fit()\n",
    "model_opt_fit.summary()\n",
    "\n",
    "prediction = model_opt_fit.get_forecast(len(test_data))\n",
    "predicted_value = prediction.predicted_mean\n",
    "predicted_ub = prediction.conf_int()[:,0]\n",
    "predicted_lb = prediction.conf_int()[:,1]\n",
    "predict_index = list(test_data.index)\n",
    "r2 = r2_score(test_data, predicted_value)\n",
    "\n",
    "plt.figure(dpi=150)\n",
    "plt.plot(mean_by_ym.index, mean_by_ym[\"price\"], label=\"price\")\n",
    "# plt.vlines(forecast_start_date, 0, 1000, linestyle=\"--\", color=\"r\", label=\"Forecast Start\")\n",
    "plt.plot(predict_index, predicted_value, label = \"Prediction\")\n",
    "plt.fill_between(predict_index, predicted_lb, predicted_ub, color=\"k\", \n",
    "                 alpha=0.1, label=\"0.95 Prediction Interval\")\n",
    "plt.legend(loc=\"upper left\")\n",
    "plt.suptitle(\"SARIMA {} {}, Prediction Results (r2_score : {:4.2f})\".format(\n",
    "    aa_model.get_params()[\"order\"], aa_model.get_params()[\"seasonal_order\"], r2))"
   ]
  }
 ],
 "metadata": {
  "kernelspec": {
   "display_name": "Python 3",
   "language": "python",
   "name": "python3"
  },
  "language_info": {
   "codemirror_mode": {
    "name": "ipython",
    "version": 3
   },
   "file_extension": ".py",
   "mimetype": "text/x-python",
   "name": "python",
   "nbconvert_exporter": "python",
   "pygments_lexer": "ipython3",
   "version": "3.7.9"
  }
 },
 "nbformat": 4,
 "nbformat_minor": 5
}
