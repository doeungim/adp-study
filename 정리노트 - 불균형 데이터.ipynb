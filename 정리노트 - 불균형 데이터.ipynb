{
 "cells": [
  {
   "cell_type": "markdown",
   "id": "reserved-craft",
   "metadata": {},
   "source": [
    "![title](images/data_sampling_method.png)"
   ]
  },
  {
   "cell_type": "markdown",
   "id": "heavy-expansion",
   "metadata": {},
   "source": [
    "## Undersampling\n",
    "\n",
    "from imblearn.under_sampling import *"
   ]
  },
  {
   "cell_type": "markdown",
   "id": "stuffed-purpose",
   "metadata": {},
   "source": [
    "### Random undersampling"
   ]
  },
  {
   "cell_type": "code",
   "execution_count": null,
   "id": "sticky-browser",
   "metadata": {},
   "outputs": [],
   "source": [
    "from imblearn.under_sampling import *\n",
    "X_samp, y_samp = RandomUnderSampler(random_state=0).fit_sample(X_imb, y_imb)"
   ]
  },
  {
   "cell_type": "markdown",
   "id": "tamil-cameroon",
   "metadata": {},
   "source": [
    "### Tomek Link"
   ]
  },
  {
   "cell_type": "code",
   "execution_count": null,
   "id": "scientific-ethernet",
   "metadata": {},
   "outputs": [],
   "source": [
    "X_samp, y_samp = TomekLinks(random_state=0).fit_sample(X_imb, y_imb)"
   ]
  },
  {
   "cell_type": "markdown",
   "id": "gorgeous-rocket",
   "metadata": {},
   "source": [
    "### CNN"
   ]
  },
  {
   "cell_type": "code",
   "execution_count": null,
   "id": "smooth-homeless",
   "metadata": {},
   "outputs": [],
   "source": [
    "X_samp, y_samp = CondensedNearestNeighbour(random_state=0).fit_sample(X_imb, y_imb)"
   ]
  },
  {
   "cell_type": "markdown",
   "id": "coated-crime",
   "metadata": {},
   "source": [
    "### One Sided Selection"
   ]
  },
  {
   "cell_type": "code",
   "execution_count": null,
   "id": "incorrect-hydrogen",
   "metadata": {},
   "outputs": [],
   "source": [
    "X_samp, y_samp = OneSidedSelection(random_state=0).fit_sample(X_imb, y_imb)"
   ]
  },
  {
   "cell_type": "markdown",
   "id": "alpha-barrel",
   "metadata": {},
   "source": [
    "## Undersampling\n",
    "\n",
    "from imblearn.over_sampling import *"
   ]
  },
  {
   "cell_type": "markdown",
   "id": "boring-property",
   "metadata": {},
   "source": [
    "### RandomOverSampler"
   ]
  },
  {
   "cell_type": "code",
   "execution_count": null,
   "id": "fixed-anderson",
   "metadata": {},
   "outputs": [],
   "source": [
    "from imblearn.over_sampling import *\n",
    "X_samp, y_samp = RandomOverSampler(random_state=0).fit_sample(X_imb, y_imb)"
   ]
  },
  {
   "cell_type": "markdown",
   "id": "studied-topic",
   "metadata": {},
   "source": [
    "### SMOTE"
   ]
  },
  {
   "cell_type": "code",
   "execution_count": null,
   "id": "reliable-laundry",
   "metadata": {},
   "outputs": [],
   "source": [
    "X_samp, y_samp = SMOTE(random_state=4).fit_sample(X_imb, y_imb)"
   ]
  },
  {
   "cell_type": "markdown",
   "id": "vocal-fields",
   "metadata": {},
   "source": [
    "### ADASYN"
   ]
  },
  {
   "cell_type": "code",
   "execution_count": null,
   "id": "further-colony",
   "metadata": {},
   "outputs": [],
   "source": [
    "X_samp, y_samp = ADASYN(random_state=0).fit_sample(X_imb, y_imb)"
   ]
  }
 ],
 "metadata": {
  "kernelspec": {
   "display_name": "Python 3",
   "language": "python",
   "name": "python3"
  },
  "language_info": {
   "codemirror_mode": {
    "name": "ipython",
    "version": 3
   },
   "file_extension": ".py",
   "mimetype": "text/x-python",
   "name": "python",
   "nbconvert_exporter": "python",
   "pygments_lexer": "ipython3",
   "version": "3.8.2"
  }
 },
 "nbformat": 4,
 "nbformat_minor": 5
}
