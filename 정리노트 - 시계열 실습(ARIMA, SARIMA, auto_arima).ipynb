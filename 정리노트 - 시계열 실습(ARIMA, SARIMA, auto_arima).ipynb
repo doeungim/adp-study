{
 "cells": [
  {
   "cell_type": "markdown",
   "id": "b7084d4a",
   "metadata": {},
   "source": [
    "# 정리노트 - 시계열 실습(ARIMA, SARIMA, auto_arima)"
   ]
  },
  {
   "cell_type": "markdown",
   "id": "bright-venezuela",
   "metadata": {},
   "source": [
    "### AirPassengers"
   ]
  },
  {
   "cell_type": "markdown",
   "id": "pleased-democrat",
   "metadata": {},
   "source": [
    "##### Box_Jenkins ARIMA Procedure\n",
    "1. Data Processing\n",
    "2. Identify Model to be Tentatively Entertained\n",
    "3. Estimate Parameters\n",
    "4. Diagnosis Check\n",
    "5. User Model to Forecast"
   ]
  },
  {
   "cell_type": "markdown",
   "id": "broad-quantum",
   "metadata": {},
   "source": [
    "##### 1. Data processing"
   ]
  },
  {
   "cell_type": "code",
   "execution_count": null,
   "id": "biological-municipality",
   "metadata": {
    "scrolled": false
   },
   "outputs": [],
   "source": [
    "import matplotlib.pyplot as plt\n",
    "import pandas as pd\n",
    "\n",
    "df = pd.read_csv(\"data/AirPassengers.csv\")\n",
    "df.rename(columns={\"Month\" : \"month\", \"#Passengers\" : \"passengers\"}, \n",
    "          inplace=True)\n",
    "df[\"month\"] = pd.to_datetime(df[\"month\"])\n",
    "df.set_index(\"month\", inplace=True)\n",
    "# plt.figure(dpi=150)\n",
    "plt.xlabel(\"month\")\n",
    "plt.ylabel(\"passengers\")\n",
    "plt.plot(df, label=\"passengers\")\n",
    "plt.legend()\n",
    "display(df)"
   ]
  },
  {
   "cell_type": "code",
   "execution_count": null,
   "id": "beneficial-geometry",
   "metadata": {
    "scrolled": false
   },
   "outputs": [],
   "source": [
    "import statsmodels.api as sm\n",
    "#Decomposition of Time Series\n",
    "decomposition = sm.tsa.seasonal_decompose(df[\"passengers\"], \n",
    "                                          model=\"additive\", period=1)\n",
    "fig = decomposition.plot()\n",
    "# fig.dpi = 150\n",
    "# fig.set_size_inches(10, 15)\n",
    "plt.show()"
   ]
  },
  {
   "cell_type": "code",
   "execution_count": null,
   "id": "essential-westminster",
   "metadata": {
    "scrolled": true
   },
   "outputs": [],
   "source": [
    "from sklearn.model_selection import train_test_split\n",
    "train_data, test_data = train_test_split(df, test_size=0.2, shuffle=False)\n",
    "\n",
    "fig, ax = plt.subplots(1, 2, figsize=(10, 5))\n",
    "fig.suptitle(\"RawData\")\n",
    "sm.graphics.tsa.plot_acf(train_data.values.squeeze(), lags=30, ax=ax[0])\n",
    "sm.graphics.tsa.plot_pacf(train_data.values.squeeze(), lags=30, ax=ax[1])\n",
    "\n",
    "#비정상성 시계열의 전형적인 특징을 보여준다. 완만히 하강하는 모양새. 정상성이라면 뚝 끊기게 나올 것"
   ]
  },
  {
   "cell_type": "code",
   "execution_count": null,
   "id": "deluxe-teach",
   "metadata": {
    "scrolled": false
   },
   "outputs": [],
   "source": [
    "#차분한다.\n",
    "diff_train_data = train_data.copy()\n",
    "diff_train_data = diff_train_data[\"passengers\"].diff()\n",
    "diff_train_data.dropna(inplace=True)\n",
    "print(diff_train_data)\n",
    "# help(plt.Figure)\n",
    "# plt.figure(dpi=150, figsize=(10,5))\n",
    "plt.plot(diff_train_data, \"orange\", label=\"diff_train_data(Stationary)\")\n",
    "plt.grid()\n",
    "plt.legend()"
   ]
  },
  {
   "cell_type": "code",
   "execution_count": null,
   "id": "dietary-dimension",
   "metadata": {},
   "outputs": [],
   "source": [
    "fig, ax = plt.subplots(1, 2, figsize=(10, 5))\n",
    "fig.suptitle(\"RawData\")\n",
    "sm.graphics.tsa.plot_acf(diff_train_data.values.squeeze(), lags=30, ax=ax[0])\n",
    "sm.graphics.tsa.plot_pacf(diff_train_data.values.squeeze(), lags=30, ax=ax[1])\n",
    "\n",
    "#정상성을 보이는 것으로 보임. 3~4개 튀는 것들이 있으나 무시해도 좋음"
   ]
  },
  {
   "cell_type": "markdown",
   "id": "perceived-conspiracy",
   "metadata": {},
   "source": [
    "##### 2. Identify Model to be Tentativery Entertained\n",
    "![title](https://raw.githubusercontent.com/hrdkdh/adp-study/main/images/arima_model_selection.png)"
   ]
  },
  {
   "cell_type": "code",
   "execution_count": null,
   "id": "psychological-campus",
   "metadata": {},
   "outputs": [],
   "source": [
    "import itertools\n",
    "import warnings\n",
    "warnings.filterwarnings(\"ignore\")\n",
    "\n",
    "#원래는 위 표에 따라 p,d,q를 결정해야 하지만 iterative 하게 할거임\n",
    "p = range(0, 3)\n",
    "d = range(1, 2)\n",
    "q = range(0, 3)\n",
    "#세가지 배열의 값을 각각 조합하여 새로운 배열로 만들어 줌\n",
    "pdq = list(itertools.product(p, d, q))\n",
    "aic = []\n",
    "for i in pdq:\n",
    "    model = sm.tsa.ARIMA(train_data.values, order=(i))\n",
    "    model_fit = model.fit()\n",
    "    print(\"ARIMA Order : {} -> AIC : {}\".format(i, model_fit.aic))\n",
    "    aic_dict = { \"order\": i, \"aic\" : model_fit.aic }\n",
    "    aic.append(aic_dict)\n",
    "result_by_aic = pd.DataFrame(aic)\n",
    "result_by_aic.sort_values(by=\"aic\", ascending=True, inplace=True)\n",
    "result_by_aic.reset_index(inplace=True)\n",
    "result_by_aic"
   ]
  },
  {
   "cell_type": "code",
   "execution_count": null,
   "id": "danish-implement",
   "metadata": {},
   "outputs": [],
   "source": [
    "#aic가 가장 낮은 모델로 select 하여 summary를 본다\n",
    "model_opt = sm.tsa.ARIMA(train_data.values, order=result_by_aic.iloc[0,1])\n",
    "model_opt_fit = model_opt.fit()\n",
    "model_opt_fit.summary()"
   ]
  },
  {
   "cell_type": "markdown",
   "id": "preceding-block",
   "metadata": {},
   "source": [
    "##### 3. Use Model to Forecast"
   ]
  },
  {
   "cell_type": "code",
   "execution_count": null,
   "id": "verbal-happiness",
   "metadata": {
    "scrolled": false
   },
   "outputs": [],
   "source": [
    "import datetime\n",
    "import numpy as np\n",
    "from sklearn.metrics import r2_score\n",
    "\n",
    "prediction = model_opt_fit.forecast(len(test_data))\n",
    "predicted_value = prediction[0]\n",
    "predicted_ub = prediction[2][:,0]\n",
    "predicted_lb = prediction[2][:,1]\n",
    "predict_index = list(test_data.index)\n",
    "r2 = r2_score(test_data, predicted_value)\n",
    "\n",
    "forecast_start_date = datetime.datetime(1958, 8, 1)\n",
    "forecast_start_date = np.datetime64(forecast_start_date)\n",
    "plt.figure(dpi=150)\n",
    "plt.plot(df.index, df[\"passengers\"], label=\"passengers\")\n",
    "plt.vlines(forecast_start_date, 0, 1000, linestyle=\"--\", color=\"r\", label=\"Forecast Start\")\n",
    "plt.plot(predict_index, predicted_value, label = \"Prediction\")\n",
    "plt.fill_between(predict_index, predicted_lb, predicted_ub, color=\"k\", alpha=0.1, label=\"0.95 Prediction Interval\")\n",
    "plt.legend(loc=\"upper left\")\n",
    "plt.suptitle(\"ARIMA {} Prediction Results (r2_score : {:4.2f})\".format(result_by_aic.iloc[0,1], r2))"
   ]
  },
  {
   "cell_type": "markdown",
   "id": "piano-apparel",
   "metadata": {},
   "source": [
    "##### ※SARIMA도 해보자"
   ]
  },
  {
   "cell_type": "code",
   "execution_count": null,
   "id": "handed-sampling",
   "metadata": {
    "scrolled": true
   },
   "outputs": [],
   "source": [
    "import itertools\n",
    "import warnings\n",
    "warnings.filterwarnings(\"ignore\")\n",
    "\n",
    "p = range(0, 3)\n",
    "d = range(1, 2)\n",
    "q = range(0, 3)\n",
    "pdq = list(itertools.product(p, d, q)) #세가지 배열의 값을 각각 조합하여 새로운 배열로 만들어 줌\n",
    "seasonal_pdq = [(x[0], x[1], x[2], 12) for x in pdq]\n",
    "\n",
    "aic = []\n",
    "for i in pdq:\n",
    "    for j in seasonal_pdq:\n",
    "        try: #pdq 파라미터 값 때문에 오류가 날 수 있음. 코드가 중단되므로 try문으로...\n",
    "            model = sm.tsa.SARIMAX(train_data.values, order=(i), seasonal_order=(j))\n",
    "            model_fit = model.fit()\n",
    "            print(\"SARIMA Order : {}{} -> AIC : {}\".format(i, j, model_fit.aic))\n",
    "            aic_dict = { \"pdq\": i, \"s-pdq\" : j, \"aic\" : model_fit.aic }\n",
    "            aic.append(aic_dict)\n",
    "        except:\n",
    "            continue\n",
    "result_by_aic = pd.DataFrame(aic)\n",
    "result_by_aic.sort_values(by=\"aic\", ascending=True, inplace=True)\n",
    "result_by_aic.reset_index(inplace=True)\n",
    "result_by_aic"
   ]
  },
  {
   "cell_type": "code",
   "execution_count": null,
   "id": "interesting-natural",
   "metadata": {},
   "outputs": [],
   "source": [
    "#aic가 가장 낮은 모델로 select 하여 summary를 본다\n",
    "model_opt = sm.tsa.SARIMAX(train_data.values, order=result_by_aic.iloc[0,1], \n",
    "                           seasonal_order=result_by_aic.iloc[0,2])\n",
    "model_opt_fit = model_opt.fit()\n",
    "model_opt_fit.summary()"
   ]
  },
  {
   "cell_type": "code",
   "execution_count": null,
   "id": "familiar-large",
   "metadata": {},
   "outputs": [],
   "source": [
    "import datetime\n",
    "import numpy as np\n",
    "from sklearn.metrics import r2_score\n",
    "\n",
    "prediction = model_opt_fit.get_forecast(len(test_data))\n",
    "predicted_value = prediction.predicted_mean\n",
    "predicted_ub = prediction.conf_int()[:,0]\n",
    "predicted_lb = prediction.conf_int()[:,1]\n",
    "predict_index = list(test_data.index)\n",
    "r2 = r2_score(test_data, predicted_value)\n",
    "\n",
    "forecast_start_date = datetime.datetime(1958, 8, 1)\n",
    "forecast_start_date = np.datetime64(forecast_start_date)\n",
    "plt.figure(dpi=150)\n",
    "plt.plot(df.index, df[\"passengers\"], label=\"passengers\")\n",
    "plt.vlines(forecast_start_date, 0, 1000, linestyle=\"--\", \n",
    "           color=\"r\", label=\"Forecast Start\")\n",
    "plt.plot(predict_index, predicted_value, label = \"Prediction\")\n",
    "plt.fill_between(predict_index, predicted_lb, predicted_ub, color=\"k\", \n",
    "                 alpha=0.1, label=\"0.95 Prediction Interval\")\n",
    "plt.legend(loc=\"upper left\")\n",
    "plt.suptitle(\"SARIMA {} {}, Prediction Results (r2_score : {:4.2f})\".format(\n",
    "    result_by_aic.iloc[0,1], result_by_aic.iloc[0,2], r2))"
   ]
  },
  {
   "cell_type": "markdown",
   "id": "frank-burke",
   "metadata": {},
   "source": [
    "##### ※auto_arima로 SARIMA 구현"
   ]
  },
  {
   "cell_type": "code",
   "execution_count": null,
   "id": "unusual-source",
   "metadata": {},
   "outputs": [],
   "source": [
    "#SARIMA - auto_arima로 한방에 모델 셀렉션이 가능\n",
    "from pmdarima import auto_arima\n",
    "aa_model = auto_arima(train_data,\n",
    "                      start_p=0,\n",
    "                      d=1,\n",
    "                      start_q=0,\n",
    "                      max_p=3,\n",
    "                      max_d=3,\n",
    "                      max_q=3,\n",
    "                      start_P=0,\n",
    "                      D=1,\n",
    "                      start_Q=0,\n",
    "                      max_P=3,\n",
    "                      max_D=3,\n",
    "                      max_Q=3,\n",
    "                      m=12,\n",
    "                      seasonal=True,\n",
    "                      trace=True,\n",
    "                      error_action=\"ignore\",\n",
    "                      suppress_warnings=True,\n",
    "                      stepwise=False)\n",
    "aa_model.summary()"
   ]
  }
 ],
 "metadata": {
  "kernelspec": {
   "display_name": "Python 3",
   "language": "python",
   "name": "python3"
  },
  "language_info": {
   "codemirror_mode": {
    "name": "ipython",
    "version": 3
   },
   "file_extension": ".py",
   "mimetype": "text/x-python",
   "name": "python",
   "nbconvert_exporter": "python",
   "pygments_lexer": "ipython3",
   "version": "3.7.9"
  }
 },
 "nbformat": 4,
 "nbformat_minor": 5
}
